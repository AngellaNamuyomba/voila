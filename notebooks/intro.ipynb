{
  "nbformat": 4,
  "nbformat_minor": 0,
  "metadata": {
    "colab": {
      "name": "intro.ipynb",
      "provenance": []
    },
    "kernelspec": {
      "name": "python3",
      "display_name": "Python 3"
    },
    "language_info": {
      "name": "python"
    }
  },
  "cells": [
    {
      "cell_type": "markdown",
      "source": [
        "\n",
        "# Introduction To Python course UM FHML\n",
        "\n",
        "See [this gallery](https://github.com/voila-dashboards/voila/tree/main/notebooks) for examples of notebooks turned into applications with voila.\n",
        "\n",
        "Here's a very basic example.\n"
      ],
      "metadata": {
        "id": "RTCvcAIYkCTi"
      }
    },
    {
      "cell_type": "code",
      "execution_count": null,
      "metadata": {
        "id": "00-NQtl9kBzy"
      },
      "outputs": [],
      "source": [
        "from ipywidgets import HBox, VBox, IntSlider, interactive_output\n",
        "from IPython.display import display\n",
        "\n",
        "# create widgets\n",
        "a = IntSlider()\n",
        "b = IntSlider()\n",
        "\n",
        "# create a function which uses the values from the widgets\n",
        "def f(a, b):\n",
        "    print(\"{} * {} = {}\".format(a, b, a * b))\n",
        "\n",
        "# create an interactive output element, containing the function and a mapping/dictionary to the widgets\n",
        "out = interactive_output(f, { \"a\": a, \"b\": b })\n",
        "\n",
        "# display everything together Horizontally and Vertically\n",
        "display(HBox([VBox([a, b]), out]))\n",
        "\n"
      ]
    }
  ]
}