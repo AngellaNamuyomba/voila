{
 "cells": [
  {
   "cell_type": "code",
   "execution_count": 1,
   "metadata": {},
   "outputs": [],
   "source": [
    "import altair as alt\n",
    "import pandas as pd\n",
    "\n",
    "from ipywidgets import Dropdown, HBox, VBox, IntSlider, interactive_output\n",
    "from IPython.display import display\n",
    "\n",
    "\n"
   ]
  },
  {
   "cell_type": "code",
   "execution_count": 7,
   "metadata": {},
   "outputs": [
    {
     "data": {
      "application/vnd.jupyter.widget-view+json": {
       "model_id": "06b04e2b880145348a72a37d4052df78",
       "version_major": 2,
       "version_minor": 0
      },
      "text/plain": [
       "HBox(children=(VBox(children=(Dropdown(options=('NLD', 'BEL', 'GBR', 'FRA', 'USA', 'CAN', 'DEU'), value='NLD')…"
      ]
     },
     "metadata": {},
     "output_type": "display_data"
    }
   ],
   "source": [
    "\n",
    "country = Dropdown(options=['NLD', 'BEL', 'GBR', 'FRA', 'USA', 'CAN', 'DEU'])\n",
    "year = IntSlider(value=2020, min=2020, max=2022)\n",
    "\n",
    "def get_and_plot_covid_data(country, year):\n",
    "\n",
    "    covid = pd.read_csv(\"https://covid.ourworldindata.org/data/owid-covid-data.csv\", parse_dates=['date'])\n",
    "\n",
    "    # take a subset of columns\n",
    "    included_columns = ['iso_code', 'date', 'new_cases_per_million']\n",
    "\n",
    "    covid = covid.loc[(covid.iso_code == country) & (covid.date.dt.year == year), included_columns]\n",
    "\n",
    "    display(alt.Chart(covid).mark_line().encode(\n",
    "        x='month(date):T',\n",
    "        y='mean(new_cases_per_million)',\n",
    "    ))\n",
    "\n",
    "\n",
    "# create an interactive output element, containing the function and a mapping/dictionary to the widgets\n",
    "out = interactive_output(get_and_plot_covid_data, { \"country\": country, \"year\": year })\n",
    "\n",
    "# display everything together Horizontally and Vertically\n",
    "display(HBox([VBox([country, year]), out]))"
   ]
  },
  {
   "cell_type": "code",
   "execution_count": null,
   "metadata": {},
   "outputs": [],
   "source": []
  }
 ],
 "metadata": {
  "interpreter": {
   "hash": "50490ea2c391e38c1454b9e668723eacd5d0c613bc7fca51595e88efcb5dd018"
  },
  "kernelspec": {
   "display_name": "Python 3.10.1 64-bit ('voila-ppc': conda)",
   "language": "python",
   "name": "python3"
  },
  "language_info": {
   "codemirror_mode": {
    "name": "ipython",
    "version": 3
   },
   "file_extension": ".py",
   "mimetype": "text/x-python",
   "name": "python",
   "nbconvert_exporter": "python",
   "pygments_lexer": "ipython3",
   "version": "3.10.1"
  },
  "orig_nbformat": 4
 },
 "nbformat": 4,
 "nbformat_minor": 2
}
